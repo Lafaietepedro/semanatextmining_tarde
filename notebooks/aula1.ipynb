{
 "cells": [
  {
   "cell_type": "markdown",
   "metadata": {},
   "source": [
    "# **Inteligência Artificial**"
   ]
  },
  {
   "cell_type": "markdown",
   "metadata": {},
   "source": [
    "- Imitação do humano\n",
    "- Ajudar o ser humano na produtividade\n",
    "- Imitar a inteligência humana e seus sentidos\n",
    "- Reconhecer padrões e resolver problemas"
   ]
  },
  {
   "cell_type": "markdown",
   "metadata": {},
   "source": [
    "# **Machine Learning**"
   ]
  },
  {
   "cell_type": "markdown",
   "metadata": {},
   "source": [
    "- Supervisionado: dados rotulados\n",
    "- Não supervisionado: sem dados rotulados"
   ]
  },
  {
   "cell_type": "markdown",
   "metadata": {},
   "source": [
    "# **Deep Learning**"
   ]
  },
  {
   "cell_type": "markdown",
   "metadata": {},
   "source": [
    "- A diferença ele possui redes neurais"
   ]
  },
  {
   "cell_type": "markdown",
   "metadata": {},
   "source": [
    "# **Possíveis usos**:\n",
    "\n",
    "## 1. Transformar texto em áudio (falar)\n",
    "## 2. identificar e comparar imagens e objetos (ver)\n",
    "## 3. Aplicar a física (raio cósmicos): Modelos que encapsulam funções - Velocidade de processamento  e entendimento da função\n",
    "## 4. Engenharia Civil - Encapsula funções\n",
    "## 5. Mídias Sociais - Estão te ouvindo para oferecer um produto\n",
    "## 6. Polícia:\n",
    "- Viés: Restrições\n",
    "- Variância: Flexibilidade\n",
    "- Underfitting\n",
    "- Overfitting\n",
    "## 7. Jogos\n",
    "- Supervisionado\n",
    "- Não supervisionado\n",
    "- Por reforço"
   ]
  },
  {
   "cell_type": "markdown",
   "metadata": {},
   "source": [
    "# **O que você pode fazer com a IA**:\n",
    "- Inferir espécie de uma flor a partir das medidas desta\n",
    "- DataSet: Íris (código genético e fenótipos)\n",
    "- Tranformar um dígito escrito a mão em texto (string)\n",
    "- Recomendar filmes - Base DataSet de avaliações\n",
    "- Análise de sentimentos\n",
    "- Detectar objetos\n",
    "- Treinar um táxi autônomo"
   ]
  },
  {
   "cell_type": "markdown",
   "metadata": {},
   "source": [
    "# **Métricas**\n",
    "- Métrica é uma régua para medir o desempenho dos nossos modelos\n",
    "- Função de custo e otimizadores (discerne se a predição é boa ou ruim) - Erro do quadrático médio"
   ]
  },
  {
   "cell_type": "markdown",
   "metadata": {},
   "source": [
    "# **Terminologias**\n",
    "- ## **Ciência de Dados**: campo acadêmico insterdisciplinar para sugestôes de insights\n",
    "- ## **Overfitting**: Aprendeu demais\n",
    "- ## **Underfitting**: Não aprendeu o suficiente\n",
    "- ## **Viés**: Restrições impostas na função\n",
    "- ## **Variância**: Flexibilidade da técnica em se adaptar os dados"
   ]
  },
  {
   "cell_type": "markdown",
   "metadata": {},
   "source": [
    "# **DataSet: Íris**"
   ]
  },
  {
   "cell_type": "code",
   "execution_count": null,
   "metadata": {},
   "outputs": [],
   "source": [
    "url = 'https://gist.githubusercontent.com/netj/8836201/raw/6f9306ad21398ea43cba4f7d537619d0e07d5ae3/iris.csv'"
   ]
  }
 ],
 "metadata": {
  "kernelspec": {
   "display_name": ".venv",
   "language": "python",
   "name": "python3"
  },
  "language_info": {
   "name": "python",
   "version": "3.12.5"
  }
 },
 "nbformat": 4,
 "nbformat_minor": 2
}
